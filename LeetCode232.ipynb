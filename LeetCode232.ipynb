#Leetcode 232

class listStack:
    def __init__(self):
        self.__stack=[]

    def push(self, x):
        self.__stack.append(x)

    def pop(self):
        self.__stack.pop()

    def isEmpty(self) :
        return not bool(self.__stack)

    def top(self):
        if self.isEmpty() :
            return None
        else:
            return self.__stack[-1]


class MyQueue:

    def __init__(self):
        self.s1=listStack()
        self.s2=listStack()
        

    def enqueue(self, x):
        self.s1.push(x)
        

    def dequeue(self):
        for i in range(len(self.s1)-1) :
            self.s2.push(self.s1.pop())
        for i in range(len(self.s2)):
            self.s1.push(self.s2.pop())
        

    def front(self):
        if self.s1.isEmpty():
            return None
        else:
            return self.s1[0]
        

    def isEmpty(self):
        return not bool(self.s1)
        


queue=MyQueue()
queue.enqueue(1)
queue.enqueue(2)
queue.front()
queue.dequeue()
queue.isEmpty()
