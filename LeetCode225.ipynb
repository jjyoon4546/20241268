{
 "cells": [
  {
   "cell_type": "code",
   "execution_count": 6,
   "id": "8603a0e4-e552-4358-9f9c-ea1f1f6836f3",
   "metadata": {},
   "outputs": [
    {
     "data": {
      "text/plain": [
       "False"
      ]
     },
     "execution_count": 6,
     "metadata": {},
     "output_type": "execute_result"
    }
   ],
   "source": [
    "#LeetCode 225. Implement Stack using Queues\n",
    "\n",
    "class listQueue:\n",
    "    def __init__(self):\n",
    "        self.__queue=[]\n",
    "\n",
    "    def enqueue(self, x):\n",
    "        self.__queue.append(x)\n",
    "\n",
    "    def dequeue(self):\n",
    "        self.__queue.pop(0)\n",
    "\n",
    "    def front(self):\n",
    "        return self.__queue[0]\n",
    "\n",
    "    def isEmpty(self) -> bool:\n",
    "        return not bool(self.__queue)\n",
    "\n",
    "    def dequeueAll(self):\n",
    "        self.__queue.clear()\n",
    "\n",
    "\n",
    "class MyStack:\n",
    "\n",
    "    def __init__(self):\n",
    "        self.q1=listQueue()\n",
    "        self.q2=listQueue()\n",
    "        \n",
    "\n",
    "    def push(self, x):\n",
    "        self.q2.enqueue(x)\n",
    "        while not self.q1.isEmpty():\n",
    "            self.q2.enqueue(self.q1.dequeue())\n",
    "        self.q2, self.q1=self.q1, self.q2\n",
    "        \n",
    "\n",
    "    def pop(self):\n",
    "        return self.q1.dequeue()\n",
    "        \n",
    "\n",
    "    def top(self):\n",
    "        return self.q1.front()\n",
    "        \n",
    "\n",
    "    def empty(self) -> bool :\n",
    "        return not bool(self.q1)\n",
    "        \n",
    "\n",
    "stack=MyStack()\n",
    "stack.push(1)\n",
    "stack.push(2)\n",
    "stack.top()\n",
    "stack.pop()\n",
    "stack.empty()"
   ]
  }
 ],
 "metadata": {
  "kernelspec": {
   "display_name": "Python 3 (ipykernel)",
   "language": "python",
   "name": "python3"
  },
  "language_info": {
   "codemirror_mode": {
    "name": "ipython",
    "version": 3
   },
   "file_extension": ".py",
   "mimetype": "text/x-python",
   "name": "python",
   "nbconvert_exporter": "python",
   "pygments_lexer": "ipython3",
   "version": "3.12.7"
  }
 },
 "nbformat": 4,
 "nbformat_minor": 5
}
